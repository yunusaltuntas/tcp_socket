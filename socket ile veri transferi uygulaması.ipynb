{
 "cells": [
  {
   "cell_type": "markdown",
   "metadata": {},
   "source": [
    "Haberleşme işlemini  server1 in ip adresi üzerinden gerçekleştiriyoruz . Server1 in ip adresini ögrenmek için python komut ekranına aşagıdaki kod yazınız;\n",
    "\n",
    "print(socket.gethostbyname(socket.gethostname()))\n",
    "\n",
    "veya windows da cmd ekranına ipconfig yazarak ordaki ıpv4 ü kodumuza ekleyebiliriz\n",
    "\n",
    "veya linux da için ifconfig yazarak inet kısmındaki ipyi kodumuza ekliyoruz"
   ]
  },
  {
   "cell_type": "markdown",
   "metadata": {},
   "source": [
    "# SERVER1"
   ]
  },
  {
   "cell_type": "code",
   "execution_count": null,
   "metadata": {},
   "outputs": [],
   "source": [
    "import  socket\n",
    "mysocket=socket.socket(socket.AF_INET,socket.SOCK_STREAM)\n",
    "mysocket.bind((\"server1 in ip si \",4444))\n",
    "mysocket.listen(5)\n",
    "(client,(ip,port))=mysocket.accept()\n",
    "def veri_transferi(iletim_modu,degişken):\n",
    "      if iletim_modu==\"alıcı\":\n",
    "               data=mysocket.recv(degişken)  \n",
    "               print(data)\n",
    "      if iletim_modu==\"verici\":\n",
    "               client.send(bytes(degişken,\"utf8\"))\n",
    "               print(\"veri diger servere gönderildi\")"
   ]
  },
  {
   "cell_type": "markdown",
   "metadata": {},
   "source": [
    "# SERVER2"
   ]
  },
  {
   "cell_type": "code",
   "execution_count": null,
   "metadata": {},
   "outputs": [],
   "source": [
    "import  socket\n",
    "mysocket=socket.socket(socket.AF_INET,socket.SOCK_STREAM)\n",
    "mysocket.connect((\"server1 in ip si \",4444))\n",
    "def veri_transferi(iletim_modu degişken):\n",
    "      if iletim_modu==\"alıcı\":\n",
    "               data=mysocket.recv(degişken)  \n",
    "               print(data)\n",
    "      if iletim_modu==\"verici\":\n",
    "               client.send(bytes(degişken,\"utf8\"))\n",
    "               print(\"veri diger servere gönderildi\")"
   ]
  },
  {
   "cell_type": "markdown",
   "metadata": {},
   "source": [
    "programda server1 in ip adresini yerine yazdıktan sonra programda hangisinden hangisinine veri göndereceginizi seçmeniz gerekmektedir.Örnegin burada server1 alıcı olacagını düşünelim server1 in comat windowuna veri_transferi(\"alıcı\",1024)yazıyoruz burada 1024 maksimum veri büyükügüdür\n",
    "\n",
    "ardından sever 2ye veri_transferi(\"verici\",\"gönderilecek mesaj\") şeklinde yazarak veriyi karşıya aktarmış olduk mesaj kısmına daha önceden tanımladıgımız degişkeni veya bir görüntüyü programa import ettigimiz degişkeni yazabiliriz\n",
    "\n",
    "\n",
    "\n",
    "mysocket=socket.socket(socket.AF_INET,socket.SOCK_STREAM)   burada ilk belirttigimiz haberleşme protokolunde genel olarak yazılan haberleşme sınıfıdır ikinci yazılan ise haberleşme protokolunu belirler burda tcp haberleşme purotokolunden bahsettik   oyuzden \"socket.SOCK_STREAM\" yazdık\n",
    "\n",
    "\n",
    "\n",
    "\n",
    "\n",
    "mysocket.bind((\"server1 in ip si \",4444))  burada ana server oldugunu belirtiyoruz \"4444\" burası portu belirttigimiz kısımdır ve portu istege göre 4 veya 5 basamaklı bir sayı verebiliriz.Dikkat edilmesi gereken nokta ise ikisinin port numarasının da aynı yazılmalıdır.\n",
    "\n"
   ]
  },
  {
   "cell_type": "code",
   "execution_count": null,
   "metadata": {},
   "outputs": [],
   "source": []
  }
 ],
 "metadata": {
  "kernelspec": {
   "display_name": "Python 3",
   "language": "python",
   "name": "python3"
  },
  "language_info": {
   "codemirror_mode": {
    "name": "ipython",
    "version": 3
   },
   "file_extension": ".py",
   "mimetype": "text/x-python",
   "name": "python",
   "nbconvert_exporter": "python",
   "pygments_lexer": "ipython3",
   "version": "3.7.1"
  }
 },
 "nbformat": 4,
 "nbformat_minor": 2
}
